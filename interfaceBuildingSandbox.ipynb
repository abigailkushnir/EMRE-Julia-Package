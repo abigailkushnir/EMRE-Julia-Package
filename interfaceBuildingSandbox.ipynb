{
 "cells": [
  {
   "cell_type": "code",
   "execution_count": 1,
   "metadata": {},
   "outputs": [
    {
     "name": "stderr",
     "output_type": "stream",
     "text": [
      "\u001b[32m\u001b[1m  Activating\u001b[22m\u001b[39m project at `~/Documents/EMRE Julia Package`\n"
     ]
    }
   ],
   "source": [
    "include(\"EMREfunctionsCompleteSS.jl\");"
   ]
  },
  {
   "cell_type": "code",
   "execution_count": 189,
   "metadata": {},
   "outputs": [
    {
     "data": {
      "text/latex": [
       "$$ \\begin{equation}\n",
       "A\\left( t \\right)\n",
       "\\end{equation}\n",
       " $$"
      ],
      "text/plain": [
       "A(t)"
      ]
     },
     "metadata": {},
     "output_type": "display_data"
    }
   ],
   "source": [
    "# function to_timedependent_symbol(symbol::Symbol, vec::Vector)\n",
    "#     @variables t\n",
    "#     return \n",
    "#         ModelingToolkit.variable(symbol, join(vec); T=ModelingToolkit.FnType{Tuple{Any},Real})\n",
    "#      (\n",
    "#         t\n",
    "#     )\n",
    "# end\n",
    "\n",
    "rn = @reaction_network begin\n",
    "    @parameters k\n",
    "    @species A(t) B(t)\n",
    "\n",
    "    k, 0 --> A\n",
    "end\n",
    "\n",
    "# # display(collect(keys(rn.var_to_name)))\n",
    "\n",
    "# # a = to_timedependent_symbol(collect(keys(rn.var_to_name))[1], [1])\n",
    "\n",
    "# a = to_timedependent_symbol(collect(keys(rn.var_to_name))[findfirst(x->isequal(x, rn.species[2]), collect(values(rn.var_to_name)))], [1]);\n",
    "\n",
    "# @species $a\n",
    "# # Reaction(rn.ps[1], [a], [a], [1], [1])\n",
    "\n",
    "\n",
    "rn.species[1]\n",
    "\n"
   ]
  },
  {
   "cell_type": "code",
   "execution_count": 268,
   "metadata": {},
   "outputs": [
    {
     "data": {
      "text/plain": [
       "create_subscripted_species (generic function with 1 method)"
      ]
     },
     "metadata": {},
     "output_type": "display_data"
    }
   ],
   "source": [
    "# Define a reaction network with species A(t)\n",
    "rn = @reaction_network begin\n",
    "    @parameters k\n",
    "    @species A(t)\n",
    "\n",
    "    k, 0 --> A\n",
    "end\n",
    "\n",
    "# Define a new species with the same letter but a subscript\n",
    "function create_subscripted_species(symbol::Symbol, subscript::Int)\n",
    "    # Create a new symbol with the subscript using Unicode subscript characters\n",
    "    subscripted_symbol =  Symbol(string(string(symbol), string(subscript)))  # \"₁\" is the subscripted 1 in Unicode\n",
    "    return subscripted_symbol\n",
    "end\n",
    "\n",
    "# Create a new species A₁(t) based on species A(t)\n",
    "# test = create_subscripted_species(:A, 1)\n",
    "\n",
    "# test2 = Catalyst.Species(test)\n",
    "\n",
    "# Add the new species to the reaction network (or do anything else with it)\n",
    "# @species $A₁(t)\n",
    "\n",
    "# You can now use `A₁` as a new species in the reaction network."
   ]
  },
  {
   "cell_type": "code",
   "execution_count": 274,
   "metadata": {},
   "outputs": [],
   "source": [
    "rn = @reaction_network begin\n",
    "    @parameters k\n",
    "    @species A(t) B(t)\n",
    "\n",
    "    k, 0 --> A\n",
    "end\n",
    "\n",
    "numVoxels = 2;\n",
    "newSpecies = []\n",
    "for species in rn.species\n",
    "    varIndex = findfirst(x->isequal(x, species), collect(values(rn.var_to_name)));\n",
    "    speciesSym = collect(keys(rn.var_to_name))[varIndex]\n",
    "    for i in 1:numVoxels\n",
    "        subscriptedSpecies = create_subscripted_species(speciesSym, i)\n",
    "        @species $subscriptedSpecies(t)\n",
    "        push!(newSpecies, subscriptedSpecies)\n",
    "    end\n",
    "end\n",
    "# typeof(newSpecies[1])\n",
    "\n",
    "# @species $newSpecies[1]\n",
    "\n",
    "\n",
    "# Reaction(k, [newSpecies[1]], [newSpecies[2]], [1], [1])"
   ]
  },
  {
   "cell_type": "code",
   "execution_count": 304,
   "metadata": {},
   "outputs": [
    {
     "data": {
      "text/plain": [
       "4-element Vector{Any}:\n",
       " A1(t)\n",
       " A2(t)\n",
       " B1(t)\n",
       " B2(t)"
      ]
     },
     "metadata": {},
     "output_type": "display_data"
    },
    {
     "data": {
      "text/plain": [
       "true"
      ]
     },
     "metadata": {},
     "output_type": "display_data"
    },
    {
     "data": {
      "text/plain": [
       "k, A1 --> A2"
      ]
     },
     "metadata": {},
     "output_type": "display_data"
    }
   ],
   "source": [
    "# asymbol = :A\n",
    "# @variables t\n",
    "# Asymbolic = (@species ($asymbol)(t))[1]\n",
    "\n",
    "# Catalyst.isspecies(Asymbolic)\n",
    "\n",
    "# str = \"ABC\"\n",
    "# temp = Symbol(str)\n",
    "# Temp = (@species ($temp)(t))[1]\n",
    "\n",
    "# Catalyst.isspecies(Temp)\n",
    "\n",
    "# Define a new species with the same letter but a subscript\n",
    "function create_subscripted_species(symbol::Symbol, subscript::Int)\n",
    "    # Create a new symbol with the subscript using Unicode subscript characters\n",
    "    subscripted_symbol =  string(string(symbol), string(subscript))  # \"₁\" is the subscripted 1 in Unicode\n",
    "    return subscripted_symbol\n",
    "end;\n",
    "\n",
    "rn = @reaction_network begin\n",
    "    @parameters k\n",
    "    @species A(t) B(t)\n",
    "\n",
    "    k, 0 --> A\n",
    "end\n",
    "\n",
    "numVoxels = 2;\n",
    "newSpecies = []\n",
    "for species in rn.species\n",
    "    varIndex = findfirst(x->isequal(x, species), collect(values(rn.var_to_name)));\n",
    "    speciesSym = collect(keys(rn.var_to_name))[varIndex]\n",
    "    for i in 1:numVoxels\n",
    "        subscriptedSpecies = create_subscripted_species(speciesSym, i)\n",
    "        symbVersion = Symbol(subscriptedSpecies)\n",
    "        push!(newSpecies, (@species ($symbVersion)(t))[1])\n",
    "    end\n",
    "end\n",
    "\n",
    "display(newSpecies)\n",
    "display(Catalyst.isspecies(newSpecies[1]))\n",
    "\n",
    "Reaction(rn.ps[1], [newSpecies[1]], [newSpecies[2]], [1], [1])"
   ]
  },
  {
   "cell_type": "code",
   "execution_count": 1,
   "metadata": {},
   "outputs": [
    {
     "name": "stderr",
     "output_type": "stream",
     "text": [
      "\u001b[32m\u001b[1m  Activating\u001b[22m\u001b[39m project at `~/Documents/EMRE Julia Package`\n"
     ]
    }
   ],
   "source": [
    "include(\"EMREfunctionsCompleteSS.jl\");"
   ]
  },
  {
   "cell_type": "code",
   "execution_count": 41,
   "metadata": {},
   "outputs": [],
   "source": [
    "function createSubSpecies(symbol::Symbol, voxelNum::Int)\n",
    "    subSymbol =  string(string(symbol)[1], string(voxelNum))\n",
    "    return Symbol(subSymbol)\n",
    "end;\n",
    "\n"
   ]
  },
  {
   "cell_type": "code",
   "execution_count": 2,
   "metadata": {},
   "outputs": [],
   "source": [
    "struct VoxelReaction\n",
    "    rxn::Reaction\n",
    "    voxelNums::Vector{Int}\n",
    "end"
   ]
  },
  {
   "cell_type": "code",
   "execution_count": 14,
   "metadata": {},
   "outputs": [],
   "source": [
    "struct VoxelSpecies\n",
    "    speciesName::Num\n",
    "    voxelsNums::Vector{Int}\n",
    "end;\n"
   ]
  },
  {
   "cell_type": "code",
   "execution_count": 104,
   "metadata": {},
   "outputs": [],
   "source": [
    "struct DiffReaction\n",
    "    speciesName::Num\n",
    "    voxelPairs::Vector{Vector{Int}}\n",
    "end;"
   ]
  },
  {
   "cell_type": "code",
   "execution_count": 113,
   "metadata": {},
   "outputs": [],
   "source": [
    "@species A B\n",
    "@parameters k d\n",
    "@variables t\n",
    "\n",
    "a = VoxelSpecies(A, [1,2,3])\n",
    "b = VoxelSpecies(B, [1,3])\n",
    "\n",
    "aDiff = DiffReaction(A, [[1,2],[2,3]])\n",
    "\n",
    "vr = VoxelReaction((@reaction k, A-->B), [1,3]);"
   ]
  },
  {
   "cell_type": "code",
   "execution_count": 123,
   "metadata": {},
   "outputs": [
    {
     "data": {
      "text/latex": [
       "$$ \\begin{align}\n",
       "\\frac{\\mathrm{d} \\mathrm{A1}\\left( t \\right)}{\\mathrm{d}t} &= d \\mathrm{A2}\\left( t \\right) - d \\mathrm{A1}\\left( t \\right) - k \\mathrm{A1}\\left( t \\right) \\\\\n",
       "\\frac{\\mathrm{d} \\mathrm{B1}\\left( t \\right)}{\\mathrm{d}t} &= k \\mathrm{A1}\\left( t \\right) \\\\\n",
       "\\frac{\\mathrm{d} \\mathrm{A3}\\left( t \\right)}{\\mathrm{d}t} &=  - d \\mathrm{A3}\\left( t \\right) + d \\mathrm{A2}\\left( t \\right) - k \\mathrm{A3}\\left( t \\right) \\\\\n",
       "\\frac{\\mathrm{d} \\mathrm{B3}\\left( t \\right)}{\\mathrm{d}t} &= k \\mathrm{A3}\\left( t \\right) \\\\\n",
       "\\frac{\\mathrm{d} \\mathrm{A2}\\left( t \\right)}{\\mathrm{d}t} &= d \\mathrm{A3}\\left( t \\right) - 2 d \\mathrm{A2}\\left( t \\right) + d \\mathrm{A1}\\left( t \\right)\n",
       "\\end{align}\n",
       " $$"
      ],
      "text/plain": [
       "\u001b[0m\u001b[1mModel ##ReactionSystem#868 with 5 \u001b[22m\u001b[0m\u001b[1mequations\u001b[22m\n",
       "\u001b[0m\u001b[1mStates (5):\u001b[22m\n",
       "  A1(t)\n",
       "  B1(t)\n",
       "  A3(t)\n",
       "  B3(t)\n",
       "⋮\n",
       "\u001b[0m\u001b[1mParameters (1):\u001b[22m\n",
       "  k"
      ]
     },
     "metadata": {},
     "output_type": "display_data"
    }
   ],
   "source": [
    "rn = @reaction_network begin\n",
    "end;\n",
    "\n",
    "\n",
    "## for each type of reaction: \n",
    "for voxelNum in vr.voxelNums ## for each voxel the reaction happens in\n",
    "    voxelSubstrates = []; ## make subspecies of the reactants\n",
    "    for sub in vr.rxn.substrates\n",
    "        subSpeciesSymb = createSubSpecies(Symbol(sub), voxelNum)\n",
    "        subSpecies = (@species ($subSpeciesSymb)(t))[1]\n",
    "        push!(voxelSubstrates, subSpecies)\n",
    "        addspecies!(rn, subSpecies);\n",
    "    end;\n",
    "    voxelProducts = []; ## make subspecies of the products\n",
    "    for prod in vr.rxn.products\n",
    "        subSpeciesSymb = createSubSpecies(Symbol(prod), voxelNum)\n",
    "        subSpecies = (@species ($subSpeciesSymb)(t))[1]\n",
    "        push!(voxelProducts, subSpecies)\n",
    "        addspecies!(rn, subSpecies);\n",
    "    end;\n",
    "    react = Reaction(vr.rxn.rate, voxelSubstrates, voxelProducts, vr.rxn.substoich, vr.rxn.prodstoich)\n",
    "    addreaction!(rn, react)\n",
    "end;\n",
    "addparam!(rn, vr.rxn.rate);\n",
    "## end;\n",
    "\n",
    "## for each species:\n",
    "for voxelNum in a.voxelsNums\n",
    "    subSpeciesSymb = createSubSpecies(Symbol(a.speciesName), voxelNum)\n",
    "    subSpecies = (@species ($subSpeciesSymb)(t))[1]\n",
    "\n",
    "    addspecies!(rn, subSpecies)\n",
    "    # added = findfirst(x->isequal(x, subSpecies), rn.species)\n",
    "    # if added == nothing\n",
    "    #     addspecies!(rn, subSpecies)\n",
    "    # end;\n",
    "end;\n",
    "\n",
    "\n",
    "## for each diffusion reaction:\n",
    "for pair in aDiff.voxelPairs\n",
    "    subSpeciesSymb1 = createSubSpecies(Symbol(aDiff.speciesName), pair[1])\n",
    "    subSpecies1 = (@species ($subSpeciesSymb1)(t))[1]\n",
    "    subSpeciesSymb2 = createSubSpecies(Symbol(aDiff.speciesName), pair[2])\n",
    "    subSpecies2 = (@species ($subSpeciesSymb2)(t))[1]\n",
    "\n",
    "    addspecies!(rn, subSpecies1)\n",
    "    addspecies!(rn, subSpecies2)\n",
    "\n",
    "    react1 = Reaction(d, [subSpecies1], [subSpecies2]);\n",
    "    react2 = Reaction(d, [subSpecies2], [subSpecies1]);\n",
    "    addreaction!(rn, react1)\n",
    "    addreaction!(rn, react2)\n",
    "end;\n",
    "\n",
    "## end;\n",
    "\n",
    "display(convert(ODESystem, rn, combinatoric_ratelaws=false))\n"
   ]
  }
 ],
 "metadata": {
  "kernelspec": {
   "display_name": "Julia 1.10.5",
   "language": "julia",
   "name": "julia-1.10"
  },
  "language_info": {
   "file_extension": ".jl",
   "mimetype": "application/julia",
   "name": "julia",
   "version": "1.10.5"
  }
 },
 "nbformat": 4,
 "nbformat_minor": 2
}
